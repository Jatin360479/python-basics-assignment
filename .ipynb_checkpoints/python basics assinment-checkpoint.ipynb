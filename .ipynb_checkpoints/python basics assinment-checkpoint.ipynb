{
 "cells": [
  {
   "cell_type": "markdown",
   "id": "0742f277-809a-4e6a-864a-1fa89e05f406",
   "metadata": {},
   "source": [
    "                                               QUESTION NO.1"
   ]
  },
  {
   "cell_type": "code",
   "execution_count": 12,
   "id": "13caac15-72de-40ac-86d3-fc36a572e180",
   "metadata": {},
   "outputs": [
    {
     "data": {
      "text/plain": [
       "'Answer: It is a cross-platform language.It can run on Linux, macOS, and Windows For example you can run the Python code for Windows in Linux or macOS, too As if we are comparing with other languages, python has a more dynamic nature'"
      ]
     },
     "execution_count": 12,
     "metadata": {},
     "output_type": "execute_result"
    }
   ],
   "source": [
    "# Explain the key features of pythonthat make it popular choice of programming.\n",
    "\"Python is a programming language. these are the following methods which make it popular:\"\n",
    "\"Answer: It is a cross-platform language.It can run on Linux, macOS, and Windows For example you can run the Python code for Windows in Linux or macOS, too As if we are comparing with other languages, python has a more dynamic nature\"\n"
   ]
  },
  {
   "cell_type": "code",
   "execution_count": 13,
   "id": "d0fdcbe5-ad59-4b7a-95bd-7d8a083dfe50",
   "metadata": {},
   "outputs": [
    {
     "data": {
      "text/plain": [
       "int"
      ]
     },
     "execution_count": 13,
     "metadata": {},
     "output_type": "execute_result"
    }
   ],
   "source": [
    "# in reference of question 1\"\n",
    "a=5\n",
    "type(a)\n"
   ]
  },
  {
   "cell_type": "markdown",
   "id": "95e9ff3c-9eac-4e27-b548-139f019eaf22",
   "metadata": {},
   "source": [
    "                                               QUESTION NO.2"
   ]
  },
  {
   "cell_type": "code",
   "execution_count": 14,
   "id": "6ba7b8c3-c23c-46ae-ade5-ab560140bdeb",
   "metadata": {},
   "outputs": [
    {
     "data": {
      "text/plain": [
       "'Answer : a predefined keyword reserves as the working progrmming that has a special meaning.these are not work as the identifiers or variables.they can use for the purpose of defining varoius variables like integers,classes etc.'"
      ]
     },
     "execution_count": 14,
     "metadata": {},
     "output_type": "execute_result"
    }
   ],
   "source": [
    "# Describe the role of predefined keyword in python and provide examples how they are used in the program.\n",
    "\"Answer : a predefined keyword reserves as the working progrmming that has a special meaning.these are not work as the identifiers or variables.they can use for the purpose of defining varoius variables like integers,classes etc.\""
   ]
  },
  {
   "cell_type": "code",
   "execution_count": 17,
   "id": "1eb91f82-a313-42d9-a1e6-c9108ee5a823",
   "metadata": {},
   "outputs": [
    {
     "name": "stdout",
     "output_type": "stream",
     "text": [
      "true\n",
      "false\n"
     ]
    }
   ],
   "source": [
    "# In reference of question 2\n",
    "print('true')\n",
    "print('false')      #thos is one of keywors example which is value keyword"
   ]
  },
  {
   "cell_type": "markdown",
   "id": "d8a54a1c-1cb3-42af-b5d5-58b66ffc14d2",
   "metadata": {},
   "source": [
    "                                             QUESTION NO.3"
   ]
  },
  {
   "cell_type": "code",
   "execution_count": 18,
   "id": "41c70df0-9832-49ac-a468-c90c9c95c238",
   "metadata": {},
   "outputs": [
    {
     "data": {
      "text/plain": [
       "'Answer : In python on comparing both mutable and immutable , mutable are those which can be modified or changeble whereas immutable are those which cannot be modified... In mutable we can assign a new a new value butnot in immutable objects. As compare to mutable objects immutable makes the objects easier to reason about code.'"
      ]
     },
     "execution_count": 18,
     "metadata": {},
     "output_type": "execute_result"
    }
   ],
   "source": [
    "# Compare and contrast mutable and immutable objects in python with example.\n",
    "\"Answer : In python on comparing both mutable and immutable , mutable are those which can be modified or changeble whereas immutable are those which cannot be modified... In mutable we can assign a new a new value butnot in immutable objects. As compare to mutable objects immutable makes the objects easier to reason about code.\" "
   ]
  },
  {
   "cell_type": "code",
   "execution_count": 21,
   "id": "3e6fe052-8f81-4e4a-be78-67707cab33f3",
   "metadata": {},
   "outputs": [
    {
     "name": "stdout",
     "output_type": "stream",
     "text": [
      "['apple', 'banana', 'orange', 'mango', 'lichi']\n"
     ]
    }
   ],
   "source": [
    "# In reference to question 3\n",
    "a1=[\"apple\",\"banana\",\"orange\",\"mango\"]\n",
    "a1.append(\"lichi\")            #here we append a another item which is lichi and it change because we take a example which is is mutable .\n",
    "print(a1)"
   ]
  },
  {
   "cell_type": "code",
   "execution_count": 23,
   "id": "1acfed22-99e9-4e15-a951-f756c2bfd66a",
   "metadata": {},
   "outputs": [
    {
     "ename": "AttributeError",
     "evalue": "'tuple' object has no attribute 'append'",
     "output_type": "error",
     "traceback": [
      "\u001b[0;31m---------------------------------------------------------------------------\u001b[0m",
      "\u001b[0;31mAttributeError\u001b[0m                            Traceback (most recent call last)",
      "Cell \u001b[0;32mIn[23], line 3\u001b[0m\n\u001b[1;32m      1\u001b[0m \u001b[38;5;66;03m#Another reference of question 2\u001b[39;00m\n\u001b[1;32m      2\u001b[0m a2\u001b[38;5;241m=\u001b[39m(\u001b[38;5;124m\"\u001b[39m\u001b[38;5;124mJeans\u001b[39m\u001b[38;5;124m\"\u001b[39m,\u001b[38;5;124m\"\u001b[39m\u001b[38;5;124mT-shirt\u001b[39m\u001b[38;5;124m\"\u001b[39m,\u001b[38;5;124m\"\u001b[39m\u001b[38;5;124mTrouser\u001b[39m\u001b[38;5;124m\"\u001b[39m)\n\u001b[0;32m----> 3\u001b[0m \u001b[43ma2\u001b[49m\u001b[38;5;241;43m.\u001b[39;49m\u001b[43mappend\u001b[49m(\u001b[38;5;124m\"\u001b[39m\u001b[38;5;124mShort trouser\u001b[39m\u001b[38;5;124m\"\u001b[39m)      \u001b[38;5;66;03m#here we want to append a new item but it shows an error because this is immutable\u001b[39;00m\n\u001b[1;32m      4\u001b[0m \u001b[38;5;28mprint\u001b[39m(a2)\n",
      "\u001b[0;31mAttributeError\u001b[0m: 'tuple' object has no attribute 'append'"
     ]
    }
   ],
   "source": [
    "#Another reference of question 2\n",
    "a2=(\"Jeans\",\"T-shirt\",\"Trouser\")\n",
    "a2.append(\"Short trouser\")      #here we want to append a new item but it shows an error because this is immutable\n",
    "print(a2)"
   ]
  },
  {
   "cell_type": "markdown",
   "id": "02cc6d00-be1e-41cb-abc4-c3eb3ff19b8f",
   "metadata": {},
   "source": [
    "                                                QUESTION NO.4   "
   ]
  },
  {
   "cell_type": "code",
   "execution_count": 25,
   "id": "e1d15fc7-8223-4d4b-b9bf-3d3d5a597391",
   "metadata": {},
   "outputs": [
    {
     "data": {
      "text/plain": [
       "'Answer : Special type of symbol or keyword which are used to perform varoius operations..Some of the operators are: 1. Arithmetic operators , 2.Comparison operators , 3. Assignment operators , 4. Logical operators , 5. Bitwise operators , 6. Membership opeerator , 7. Identify operators'"
      ]
     },
     "execution_count": 25,
     "metadata": {},
     "output_type": "execute_result"
    }
   ],
   "source": [
    "# Discuss the different types of operators in python and provide examples how they are used.\n",
    "\"Answer : Special type of symbol or keyword which are used to perform varoius operations.\"\".\"\"Some of the operators are: 1. Arithmetic operators , 2.Comparison operators , 3. Assignment operators , 4. Logical operators , 5. Bitwise operators , 6. Membership opeerator , 7. Identify operators\"     \n",
    "\n"
   ]
  },
  {
   "cell_type": "code",
   "execution_count": null,
   "id": "7efaa125-47d3-48dd-9210-c50e84ad544a",
   "metadata": {},
   "outputs": [],
   "source": []
  }
 ],
 "metadata": {
  "kernelspec": {
   "display_name": "Python 3 (ipykernel)",
   "language": "python",
   "name": "python3"
  },
  "language_info": {
   "codemirror_mode": {
    "name": "ipython",
    "version": 3
   },
   "file_extension": ".py",
   "mimetype": "text/x-python",
   "name": "python",
   "nbconvert_exporter": "python",
   "pygments_lexer": "ipython3",
   "version": "3.10.8"
  }
 },
 "nbformat": 4,
 "nbformat_minor": 5
}
