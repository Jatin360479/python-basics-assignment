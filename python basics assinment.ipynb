{
 "cells": [
  {
   "cell_type": "markdown",
   "id": "0742f277-809a-4e6a-864a-1fa89e05f406",
   "metadata": {},
   "source": [
    "                                               QUESTION NO.1"
   ]
  },
  {
   "cell_type": "code",
   "execution_count": 12,
   "id": "13caac15-72de-40ac-86d3-fc36a572e180",
   "metadata": {},
   "outputs": [
    {
     "data": {
      "text/plain": [
       "'Answer: It is a cross-platform language.It can run on Linux, macOS, and Windows For example you can run the Python code for Windows in Linux or macOS, too As if we are comparing with other languages, python has a more dynamic nature'"
      ]
     },
     "execution_count": 12,
     "metadata": {},
     "output_type": "execute_result"
    }
   ],
   "source": [
    "# Explain the key features of pythonthat make it popular choice of programming.\n",
    "\"Python is a programming language. these are the following methods which make it popular:\"\n",
    "\"Answer: It is a cross-platform language.It can run on Linux, macOS, and Windows For example you can run the Python code for Windows in Linux or macOS, too As if we are comparing with other languages, python has a more dynamic nature\"\n"
   ]
  },
  {
   "cell_type": "code",
   "execution_count": 13,
   "id": "d0fdcbe5-ad59-4b7a-95bd-7d8a083dfe50",
   "metadata": {},
   "outputs": [
    {
     "data": {
      "text/plain": [
       "int"
      ]
     },
     "execution_count": 13,
     "metadata": {},
     "output_type": "execute_result"
    }
   ],
   "source": [
    "# in reference of question 1\"\n",
    "a=5\n",
    "type(a)\n"
   ]
  },
  {
   "cell_type": "markdown",
   "id": "95e9ff3c-9eac-4e27-b548-139f019eaf22",
   "metadata": {},
   "source": [
    "                                               QUESTION NO.2"
   ]
  },
  {
   "cell_type": "code",
   "execution_count": 14,
   "id": "6ba7b8c3-c23c-46ae-ade5-ab560140bdeb",
   "metadata": {},
   "outputs": [
    {
     "data": {
      "text/plain": [
       "'Answer : a predefined keyword reserves as the working progrmming that has a special meaning.these are not work as the identifiers or variables.they can use for the purpose of defining varoius variables like integers,classes etc.'"
      ]
     },
     "execution_count": 14,
     "metadata": {},
     "output_type": "execute_result"
    }
   ],
   "source": [
    "# Describe the role of predefined keyword in python and provide examples how they are used in the program.\n",
    "\"Answer : a predefined keyword reserves as the working progrmming that has a special meaning.these are not work as the identifiers or variables.they can use for the purpose of defining varoius variables like integers,classes etc.\""
   ]
  },
  {
   "cell_type": "code",
   "execution_count": 17,
   "id": "1eb91f82-a313-42d9-a1e6-c9108ee5a823",
   "metadata": {},
   "outputs": [
    {
     "name": "stdout",
     "output_type": "stream",
     "text": [
      "true\n",
      "false\n"
     ]
    }
   ],
   "source": [
    "# In reference of question 2\n",
    "print('true')\n",
    "print('false')      #thos is one of keywors example which is value keyword"
   ]
  },
  {
   "cell_type": "markdown",
   "id": "d8a54a1c-1cb3-42af-b5d5-58b66ffc14d2",
   "metadata": {},
   "source": [
    "                                             QUESTION NO.3"
   ]
  },
  {
   "cell_type": "code",
   "execution_count": 18,
   "id": "41c70df0-9832-49ac-a468-c90c9c95c238",
   "metadata": {},
   "outputs": [
    {
     "data": {
      "text/plain": [
       "'Answer : In python on comparing both mutable and immutable , mutable are those which can be modified or changeble whereas immutable are those which cannot be modified... In mutable we can assign a new a new value butnot in immutable objects. As compare to mutable objects immutable makes the objects easier to reason about code.'"
      ]
     },
     "execution_count": 18,
     "metadata": {},
     "output_type": "execute_result"
    }
   ],
   "source": [
    "# Compare and contrast mutable and immutable objects in python with example.\n",
    "\"Answer : In python on comparing both mutable and immutable , mutable are those which can be modified or changeble whereas immutable are those which cannot be modified... In mutable we can assign a new a new value butnot in immutable objects. As compare to mutable objects immutable makes the objects easier to reason about code.\" "
   ]
  },
  {
   "cell_type": "code",
   "execution_count": 21,
   "id": "3e6fe052-8f81-4e4a-be78-67707cab33f3",
   "metadata": {},
   "outputs": [
    {
     "name": "stdout",
     "output_type": "stream",
     "text": [
      "['apple', 'banana', 'orange', 'mango', 'lichi']\n"
     ]
    }
   ],
   "source": [
    "# In reference to question 3\n",
    "a1=[\"apple\",\"banana\",\"orange\",\"mango\"]\n",
    "a1.append(\"lichi\")            #here we append a another item which is lichi and it change because we take a example which is is mutable .\n",
    "print(a1)"
   ]
  },
  {
   "cell_type": "code",
   "execution_count": 23,
   "id": "1acfed22-99e9-4e15-a951-f756c2bfd66a",
   "metadata": {},
   "outputs": [
    {
     "ename": "AttributeError",
     "evalue": "'tuple' object has no attribute 'append'",
     "output_type": "error",
     "traceback": [
      "\u001b[0;31m---------------------------------------------------------------------------\u001b[0m",
      "\u001b[0;31mAttributeError\u001b[0m                            Traceback (most recent call last)",
      "Cell \u001b[0;32mIn[23], line 3\u001b[0m\n\u001b[1;32m      1\u001b[0m \u001b[38;5;66;03m#Another reference of question 2\u001b[39;00m\n\u001b[1;32m      2\u001b[0m a2\u001b[38;5;241m=\u001b[39m(\u001b[38;5;124m\"\u001b[39m\u001b[38;5;124mJeans\u001b[39m\u001b[38;5;124m\"\u001b[39m,\u001b[38;5;124m\"\u001b[39m\u001b[38;5;124mT-shirt\u001b[39m\u001b[38;5;124m\"\u001b[39m,\u001b[38;5;124m\"\u001b[39m\u001b[38;5;124mTrouser\u001b[39m\u001b[38;5;124m\"\u001b[39m)\n\u001b[0;32m----> 3\u001b[0m \u001b[43ma2\u001b[49m\u001b[38;5;241;43m.\u001b[39;49m\u001b[43mappend\u001b[49m(\u001b[38;5;124m\"\u001b[39m\u001b[38;5;124mShort trouser\u001b[39m\u001b[38;5;124m\"\u001b[39m)      \u001b[38;5;66;03m#here we want to append a new item but it shows an error because this is immutable\u001b[39;00m\n\u001b[1;32m      4\u001b[0m \u001b[38;5;28mprint\u001b[39m(a2)\n",
      "\u001b[0;31mAttributeError\u001b[0m: 'tuple' object has no attribute 'append'"
     ]
    }
   ],
   "source": [
    "#Another reference of question 2\n",
    "a2=(\"Jeans\",\"T-shirt\",\"Trouser\")\n",
    "a2.append(\"Short trouser\")      #here we want to append a new item but it shows an error because this is immutable\n",
    "print(a2)"
   ]
  },
  {
   "cell_type": "markdown",
   "id": "02cc6d00-be1e-41cb-abc4-c3eb3ff19b8f",
   "metadata": {},
   "source": [
    "                                                QUESTION NO.4   "
   ]
  },
  {
   "cell_type": "code",
   "execution_count": 25,
   "id": "e1d15fc7-8223-4d4b-b9bf-3d3d5a597391",
   "metadata": {},
   "outputs": [
    {
     "data": {
      "text/plain": [
       "'Answer : Special type of symbol or keyword which are used to perform varoius operations..Some of the operators are: 1. Arithmetic operators , 2.Comparison operators , 3. Assignment operators , 4. Logical operators , 5. Bitwise operators , 6. Membership opeerator , 7. Identify operators'"
      ]
     },
     "execution_count": 25,
     "metadata": {},
     "output_type": "execute_result"
    }
   ],
   "source": [
    "# Discuss the different types of operators in python and provide examples how they are used.\n",
    "\"Answer : Special type of symbol or keyword which are used to perform varoius operations.\"\".\"\"Some of the operators are: 1. Arithmetic operators , 2.Comparison operators , 3. Assignment operators , 4. Logical operators , 5. Bitwise operators , 6. Membership opeerator , 7. Identify operators\"     \n",
    "\n"
   ]
  },
  {
   "cell_type": "markdown",
   "id": "47ec7947-cf21-4db1-82aa-e41fad5736a9",
   "metadata": {
    "tags": []
   },
   "source": [
    "                                   QUESTION 4 EXAMPLE FOR ARTHMETIC OPERATORS"
   ]
  },
  {
   "cell_type": "code",
   "execution_count": 27,
   "id": "7efaa125-47d3-48dd-9210-c50e84ad544a",
   "metadata": {},
   "outputs": [
    {
     "name": "stdout",
     "output_type": "stream",
     "text": [
      "7\n"
     ]
    }
   ],
   "source": [
    "# In reference to question 4\n",
    "a=3\n",
    "b=4                     # for arithmetic operator we use this + sign or symbol which means we add something\n",
    "print(a+b)"
   ]
  },
  {
   "cell_type": "markdown",
   "id": "12ec3b1c-c842-4032-8cd1-f8065f00c7a3",
   "metadata": {},
   "source": [
    "                                      EXAMPLE FOR COMPARISON"
   ]
  },
  {
   "cell_type": "code",
   "execution_count": 34,
   "id": "dd3fe53b-7d5a-43cd-a604-bfb469627c32",
   "metadata": {},
   "outputs": [
    {
     "name": "stdout",
     "output_type": "stream",
     "text": [
      "False\n"
     ]
    }
   ],
   "source": [
    "a=10\n",
    "b=15\n",
    "print(a==b)                        # here we compare both a and b they are equal or not."
   ]
  },
  {
   "cell_type": "markdown",
   "id": "2119e3c0-3771-4c9d-be00-c6a41eaf14e4",
   "metadata": {},
   "source": [
    "                                     EXAMPLE FOR ASSIGNMENT OPERATORS              "
   ]
  },
  {
   "cell_type": "code",
   "execution_count": 37,
   "id": "7f03d147-52da-408a-82ce-0d9a5240639b",
   "metadata": {},
   "outputs": [
    {
     "name": "stdout",
     "output_type": "stream",
     "text": [
      "30\n"
     ]
    }
   ],
   "source": [
    "a=20\n",
    "a+=10\n",
    "print(a)                          # here we assign value to a +=5"
   ]
  },
  {
   "cell_type": "markdown",
   "id": "ba8957bc-63e6-4edb-8641-73cef5b9ae03",
   "metadata": {},
   "source": [
    "ALL OPERATORS ARE RUN BY THEIR CIRCUMSTANCES"
   ]
  },
  {
   "cell_type": "markdown",
   "id": "0ad24e49-067b-476a-85ae-2831f40285f6",
   "metadata": {},
   "source": [
    "                                             QUESTION NO 5"
   ]
  },
  {
   "cell_type": "code",
   "execution_count": 38,
   "id": "9badc472-c8ab-443a-ad72-f72f6e1fdba7",
   "metadata": {},
   "outputs": [
    {
     "data": {
      "text/plain": [
       "'Answer : Changing the data type manually through the help of built in functions is called type casting'"
      ]
     },
     "execution_count": 38,
     "metadata": {},
     "output_type": "execute_result"
    }
   ],
   "source": [
    "# Explain the concept of typecasting in python with examples.\n",
    "\"Answer : Changing the data type manually through the help of built in functions is called type casting\""
   ]
  },
  {
   "cell_type": "code",
   "execution_count": 44,
   "id": "57db1834-986a-4d76-ad7a-6604eb9b8cf8",
   "metadata": {},
   "outputs": [
    {
     "data": {
      "text/plain": [
       "str"
      ]
     },
     "execution_count": 44,
     "metadata": {},
     "output_type": "execute_result"
    }
   ],
   "source": [
    "# in reference to Question 5\n",
    "roll_no=\"1052345\"\n",
    "type(roll_no)"
   ]
  },
  {
   "cell_type": "code",
   "execution_count": 49,
   "id": "d4599e9d-accb-493c-8230-98579e5d1219",
   "metadata": {},
   "outputs": [
    {
     "data": {
      "text/plain": [
       "1052345"
      ]
     },
     "execution_count": 49,
     "metadata": {},
     "output_type": "execute_result"
    }
   ],
   "source": [
    "int(roll_no)          # here string convert to integer by int()"
   ]
  },
  {
   "cell_type": "markdown",
   "id": "dae71b4b-cc1a-4578-bac1-ab1c74dad9b2",
   "metadata": {},
   "source": [
    "                                                QUESTION NO 6"
   ]
  },
  {
   "cell_type": "code",
   "execution_count": 50,
   "id": "f9e28195-1b09-4747-acd5-68ddc347310d",
   "metadata": {},
   "outputs": [
    {
     "data": {
      "text/plain": [
       "'Answer : conditional statements are based on like true and false conditions.conditions as such ,enable us to make decisions based on a certain conditions and execute differnet blocks of code that control the flow of program'"
      ]
     },
     "execution_count": 50,
     "metadata": {},
     "output_type": "execute_result"
    }
   ],
   "source": [
    "# How do conditionl statements work in python? illustrate with example.\n",
    "\"Answer : conditional statements are based on like true and false conditions.conditions as such ,enable us to make decisions based on a certain conditions and execute differnet blocks of code that control the flow of program\""
   ]
  },
  {
   "cell_type": "code",
   "execution_count": 58,
   "id": "0f50762b-8d19-46eb-9149-a2b1ccd2e821",
   "metadata": {},
   "outputs": [
    {
     "name": "stdin",
     "output_type": "stream",
     "text": [
      "enter a no 50\n"
     ]
    },
    {
     "name": "stdout",
     "output_type": "stream",
     "text": [
      "The no is equal to 50\n"
     ]
    }
   ],
   "source": [
    "# In reference to question 5\n",
    "# if, else and elif  statement condition\n",
    "num=int(input(\"enter a no\"))\n",
    "if num>50:\n",
    "    print(\"The no is greater than 50\")\n",
    "elif num==50:\n",
    "    print(\"The no is equal to 50\")\n",
    "else:\n",
    "    print(\"The no is less than 50\")"
   ]
  },
  {
   "cell_type": "markdown",
   "id": "871c2dff-d889-4f40-915e-a4a93e893dbf",
   "metadata": {},
   "source": [
    "                                               QUESTION NO 7"
   ]
  },
  {
   "cell_type": "code",
   "execution_count": 63,
   "id": "a5f55840-5b99-4626-8f22-f485a48c60a9",
   "metadata": {},
   "outputs": [
    {
     "data": {
      "text/plain": [
       "'Answer : Python programing language provide two types of loops one is For loop and another one is while loop .for loop : based on a sequential manner. while loop : while loop executes until a given condition is satisfied'"
      ]
     },
     "execution_count": 63,
     "metadata": {},
     "output_type": "execute_result"
    }
   ],
   "source": [
    "# Describe the different types of loops in python and their use cases with examples.\n",
    "\"Answer : Python programing language provide two types of loops one is For loop and another one is while loop \"\".\"\"for loop : based on a sequential manner.\"\" \" \"while loop : while loop executes until a given condition is satisfied\""
   ]
  },
  {
   "cell_type": "markdown",
   "id": "1514ef35-d011-44f0-ac93-78e63bd9565f",
   "metadata": {},
   "source": [
    "                                             WHILE LOOP EXAMPLE"
   ]
  },
  {
   "cell_type": "code",
   "execution_count": 64,
   "id": "ab422bae-c136-4e63-8b99-41fc7e9b9935",
   "metadata": {},
   "outputs": [
    {
     "name": "stdout",
     "output_type": "stream",
     "text": [
      "hello world\n",
      "hello world\n",
      "hello world\n"
     ]
    }
   ],
   "source": [
    "# In reference to question 7\n",
    "count=0\n",
    "while(count<3):\n",
    "    count=count+1\n",
    "    print(\"hello world\")\n"
   ]
  },
  {
   "cell_type": "markdown",
   "id": "7afebdf3-0a63-4757-a8c4-248fb891e827",
   "metadata": {},
   "source": [
    "                                               FOR LOOP EXAMPLE"
   ]
  },
  {
   "cell_type": "code",
   "execution_count": 66,
   "id": "91c66c1b-4c30-4871-822c-64edec77d2fa",
   "metadata": {},
   "outputs": [
    {
     "name": "stdout",
     "output_type": "stream",
     "text": [
      "0\n",
      "1\n",
      "2\n",
      "3\n",
      "4\n"
     ]
    }
   ],
   "source": [
    "# In reference to question 7\n",
    "n=5\n",
    "for i in range(0,n):\n",
    "    print(i)"
   ]
  },
  {
   "cell_type": "code",
   "execution_count": null,
   "id": "cdd612fe-b787-462f-b824-8d07369b8eab",
   "metadata": {},
   "outputs": [],
   "source": []
  }
 ],
 "metadata": {
  "kernelspec": {
   "display_name": "Python 3 (ipykernel)",
   "language": "python",
   "name": "python3"
  },
  "language_info": {
   "codemirror_mode": {
    "name": "ipython",
    "version": 3
   },
   "file_extension": ".py",
   "mimetype": "text/x-python",
   "name": "python",
   "nbconvert_exporter": "python",
   "pygments_lexer": "ipython3",
   "version": "3.10.8"
  }
 },
 "nbformat": 4,
 "nbformat_minor": 5
}
